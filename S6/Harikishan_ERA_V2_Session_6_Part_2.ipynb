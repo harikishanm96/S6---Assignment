{
  "nbformat": 4,
  "nbformat_minor": 0,
  "metadata": {
    "colab": {
      "provenance": [],
      "gpuType": "T4"
    },
    "kernelspec": {
      "name": "python3",
      "display_name": "Python 3"
    },
    "accelerator": "GPU"
  },
  "cells": [
    {
      "cell_type": "markdown",
      "source": [],
      "metadata": {
        "id": "-5NDj2SCes6v"
      }
    },
    {
      "cell_type": "code",
      "metadata": {
        "id": "0m2JWFliFfKT"
      },
      "source": [
        "from __future__ import print_function\n",
        "import torch\n",
        "import torch.nn as nn\n",
        "import torch.nn.functional as F\n",
        "import torch.optim as optim\n",
        "from torchvision import datasets, transforms"
      ],
      "execution_count": 1,
      "outputs": []
    },
    {
      "cell_type": "code",
      "metadata": {
        "id": "h_Cx9q2QFgM7"
      },
      "source": [
        "class Net(nn.Module):\n",
        "    def __init__(self):\n",
        "        super(Net, self).__init__()\n",
        "        self.conv1 = nn.Conv2d(in_channels=1, out_channels=128,\n",
        "        kernel_size=3, padding=1)\n",
        "        self.bn1 = nn.BatchNorm2d(num_features=128)\n",
        "        self.tns1 = nn.Conv2d(in_channels=128, out_channels=4,\n",
        "        kernel_size=1, padding=1)\n",
        "        self.conv2 = nn.Conv2d(in_channels=4, out_channels=16,\n",
        "        kernel_size=3, padding=1)\n",
        "        self.bn2 = nn.BatchNorm2d(num_features=16)\n",
        "        self.pool1 = nn.MaxPool2d(2, 2)\n",
        "        self.conv3 = nn.Conv2d(in_channels=16, out_channels=16,\n",
        "        kernel_size=3, padding=1)\n",
        "        self.bn3 = nn.BatchNorm2d(num_features=16)\n",
        "        self.conv4 = nn.Conv2d(in_channels=16, out_channels=32,\n",
        "        kernel_size=3, padding=1)\n",
        "        self.bn4 = nn.BatchNorm2d(num_features=32)\n",
        "\n",
        "        self.pool2 = nn.MaxPool2d(2, 2)\n",
        "        self.tns2 = nn.Conv2d(in_channels=32, out_channels=16,\n",
        "        kernel_size=1, padding=1)\n",
        "\n",
        "        self.conv5 = nn.Conv2d(in_channels=16, out_channels=16,\n",
        "        kernel_size=3, padding=1)\n",
        "        self.bn5 = nn.BatchNorm2d(num_features=16)\n",
        "        self.conv6 = nn.Conv2d(in_channels=16, out_channels=32,\n",
        "        kernel_size=3, padding=1)\n",
        "        self.bn6 = nn.BatchNorm2d(num_features=32)\n",
        "        self.conv7 = nn.Conv2d(in_channels=32, out_channels=10,\n",
        "        kernel_size=1, padding=1)\n",
        "        self.gpool = nn.AvgPool2d(kernel_size=7)\n",
        "        self.drop = nn.Dropout2d(0.1)\n",
        "\n",
        "    def forward(self, x):\n",
        "        x = self.tns1(self.drop(self.bn1(F.relu(self.conv1(x)))))\n",
        "        x = self.drop(self.bn2(F.relu(self.conv2(x))))\n",
        "        x = self.pool1(x)\n",
        "        x = self.drop(self.bn3(F.relu(self.conv3(x))))\n",
        "        x = self.drop(self.bn4(F.relu(self.conv4(x))))\n",
        "        x = self.tns2(self.pool2(x))\n",
        "        x = self.drop(self.bn5(F.relu(self.conv5(x))))\n",
        "        x = self.drop(self.bn6(F.relu(self.conv6(x))))\n",
        "        x = F.relu(self.conv7(x))  # No batch normalization before the final convolution\n",
        "        x = self.gpool(x)\n",
        "        x = x.view(x.size(0), -1)  # Flatten the output tensor\n",
        "        x = F.log_softmax(x, dim=1)  # Apply log softmax along the correct dimension\n",
        "        return x"
      ],
      "execution_count": 2,
      "outputs": []
    },
    {
      "cell_type": "code",
      "metadata": {
        "id": "xdydjYTZFyi3",
        "colab": {
          "base_uri": "https://localhost:8080/"
        },
        "outputId": "aabde84a-08aa-4dcc-ccc3-2c561f12a767"
      },
      "source": [
        "!pip install torchsummary\n",
        "from torchsummary import summary\n",
        "use_cuda = torch.cuda.is_available()\n",
        "device = torch.device(\"cuda\" if use_cuda else \"cpu\")\n",
        "model = Net().to(device)\n",
        "summary(model, input_size=(1, 28, 28))"
      ],
      "execution_count": 3,
      "outputs": [
        {
          "output_type": "stream",
          "name": "stdout",
          "text": [
            "Requirement already satisfied: torchsummary in /usr/local/lib/python3.10/dist-packages (1.5.1)\n",
            "----------------------------------------------------------------\n",
            "        Layer (type)               Output Shape         Param #\n",
            "================================================================\n",
            "            Conv2d-1          [-1, 128, 28, 28]           1,280\n",
            "       BatchNorm2d-2          [-1, 128, 28, 28]             256\n",
            "         Dropout2d-3          [-1, 128, 28, 28]               0\n",
            "            Conv2d-4            [-1, 4, 30, 30]             516\n",
            "            Conv2d-5           [-1, 16, 30, 30]             592\n",
            "       BatchNorm2d-6           [-1, 16, 30, 30]              32\n",
            "         Dropout2d-7           [-1, 16, 30, 30]               0\n",
            "         MaxPool2d-8           [-1, 16, 15, 15]               0\n",
            "            Conv2d-9           [-1, 16, 15, 15]           2,320\n",
            "      BatchNorm2d-10           [-1, 16, 15, 15]              32\n",
            "        Dropout2d-11           [-1, 16, 15, 15]               0\n",
            "           Conv2d-12           [-1, 32, 15, 15]           4,640\n",
            "      BatchNorm2d-13           [-1, 32, 15, 15]              64\n",
            "        Dropout2d-14           [-1, 32, 15, 15]               0\n",
            "        MaxPool2d-15             [-1, 32, 7, 7]               0\n",
            "           Conv2d-16             [-1, 16, 9, 9]             528\n",
            "           Conv2d-17             [-1, 16, 9, 9]           2,320\n",
            "      BatchNorm2d-18             [-1, 16, 9, 9]              32\n",
            "        Dropout2d-19             [-1, 16, 9, 9]               0\n",
            "           Conv2d-20             [-1, 32, 9, 9]           4,640\n",
            "      BatchNorm2d-21             [-1, 32, 9, 9]              64\n",
            "        Dropout2d-22             [-1, 32, 9, 9]               0\n",
            "           Conv2d-23           [-1, 10, 11, 11]             330\n",
            "        AvgPool2d-24             [-1, 10, 1, 1]               0\n",
            "================================================================\n",
            "Total params: 17,646\n",
            "Trainable params: 17,646\n",
            "Non-trainable params: 0\n",
            "----------------------------------------------------------------\n",
            "Input size (MB): 0.00\n",
            "Forward/backward pass size (MB): 3.05\n",
            "Params size (MB): 0.07\n",
            "Estimated Total Size (MB): 3.12\n",
            "----------------------------------------------------------------\n"
          ]
        }
      ]
    },
    {
      "cell_type": "code",
      "metadata": {
        "id": "DqTWLaM5GHgH",
        "colab": {
          "base_uri": "https://localhost:8080/"
        },
        "outputId": "c6b168f3-254e-426c-cee4-66bc5f862e7e"
      },
      "source": [
        "\n",
        "\n",
        "torch.manual_seed(1)\n",
        "batch_size = 128\n",
        "\n",
        "kwargs = {'num_workers': 1, 'pin_memory': True} if use_cuda else {}\n",
        "train_loader = torch.utils.data.DataLoader(\n",
        "    datasets.MNIST('../data', train=True, download=True,\n",
        "                    transform=transforms.Compose([\n",
        "                        transforms.ToTensor(),\n",
        "                        transforms.Normalize((0.1307,), (0.3081,))\n",
        "                    ])),\n",
        "    batch_size=batch_size, shuffle=True, **kwargs)\n",
        "test_loader = torch.utils.data.DataLoader(\n",
        "    datasets.MNIST('../data', train=False, transform=transforms.Compose([\n",
        "                        transforms.ToTensor(),\n",
        "                        transforms.Normalize((0.1307,), (0.3081,))\n",
        "                    ])),\n",
        "    batch_size=batch_size, shuffle=True, **kwargs)\n"
      ],
      "execution_count": 4,
      "outputs": [
        {
          "output_type": "stream",
          "name": "stdout",
          "text": [
            "Downloading http://yann.lecun.com/exdb/mnist/train-images-idx3-ubyte.gz\n",
            "Downloading http://yann.lecun.com/exdb/mnist/train-images-idx3-ubyte.gz to ../data/MNIST/raw/train-images-idx3-ubyte.gz\n"
          ]
        },
        {
          "output_type": "stream",
          "name": "stderr",
          "text": [
            "100%|██████████| 9912422/9912422 [00:00<00:00, 240474933.45it/s]"
          ]
        },
        {
          "output_type": "stream",
          "name": "stdout",
          "text": [
            "Extracting ../data/MNIST/raw/train-images-idx3-ubyte.gz to ../data/MNIST/raw\n"
          ]
        },
        {
          "output_type": "stream",
          "name": "stderr",
          "text": [
            "\n"
          ]
        },
        {
          "output_type": "stream",
          "name": "stdout",
          "text": [
            "\n",
            "Downloading http://yann.lecun.com/exdb/mnist/train-labels-idx1-ubyte.gz\n",
            "Downloading http://yann.lecun.com/exdb/mnist/train-labels-idx1-ubyte.gz to ../data/MNIST/raw/train-labels-idx1-ubyte.gz\n"
          ]
        },
        {
          "output_type": "stream",
          "name": "stderr",
          "text": [
            "100%|██████████| 28881/28881 [00:00<00:00, 106915881.57it/s]\n"
          ]
        },
        {
          "output_type": "stream",
          "name": "stdout",
          "text": [
            "Extracting ../data/MNIST/raw/train-labels-idx1-ubyte.gz to ../data/MNIST/raw\n",
            "\n",
            "Downloading http://yann.lecun.com/exdb/mnist/t10k-images-idx3-ubyte.gz\n",
            "Downloading http://yann.lecun.com/exdb/mnist/t10k-images-idx3-ubyte.gz to ../data/MNIST/raw/t10k-images-idx3-ubyte.gz\n"
          ]
        },
        {
          "output_type": "stream",
          "name": "stderr",
          "text": [
            "100%|██████████| 1648877/1648877 [00:00<00:00, 161390166.07it/s]"
          ]
        },
        {
          "output_type": "stream",
          "name": "stdout",
          "text": [
            "Extracting ../data/MNIST/raw/t10k-images-idx3-ubyte.gz to ../data/MNIST/raw\n"
          ]
        },
        {
          "output_type": "stream",
          "name": "stderr",
          "text": [
            "\n"
          ]
        },
        {
          "output_type": "stream",
          "name": "stdout",
          "text": [
            "\n",
            "Downloading http://yann.lecun.com/exdb/mnist/t10k-labels-idx1-ubyte.gz\n",
            "Downloading http://yann.lecun.com/exdb/mnist/t10k-labels-idx1-ubyte.gz to ../data/MNIST/raw/t10k-labels-idx1-ubyte.gz\n"
          ]
        },
        {
          "output_type": "stream",
          "name": "stderr",
          "text": [
            "100%|██████████| 4542/4542 [00:00<00:00, 15240423.01it/s]"
          ]
        },
        {
          "output_type": "stream",
          "name": "stdout",
          "text": [
            "Extracting ../data/MNIST/raw/t10k-labels-idx1-ubyte.gz to ../data/MNIST/raw\n",
            "\n"
          ]
        },
        {
          "output_type": "stream",
          "name": "stderr",
          "text": [
            "\n"
          ]
        }
      ]
    },
    {
      "cell_type": "code",
      "metadata": {
        "id": "8fDefDhaFlwH"
      },
      "source": [
        "from tqdm import tqdm\n",
        "def train(model, device, train_loader, optimizer, epoch):\n",
        "    model.train()\n",
        "    pbar = tqdm(train_loader)\n",
        "    for batch_idx, (data, target) in enumerate(pbar):\n",
        "        data, target = data.to(device), target.to(device)\n",
        "        optimizer.zero_grad()\n",
        "        output = model(data)\n",
        "        loss = F.nll_loss(output, target)\n",
        "        loss.backward()\n",
        "        optimizer.step()\n",
        "        pbar.set_description(desc= f'loss={loss.item()} batch_id={batch_idx}')\n",
        "\n",
        "\n",
        "def test(model, device, test_loader):\n",
        "    model.eval()\n",
        "    test_loss = 0\n",
        "    correct = 0\n",
        "    with torch.no_grad():\n",
        "        for data, target in test_loader:\n",
        "            data, target = data.to(device), target.to(device)\n",
        "            output = model(data)\n",
        "            test_loss += F.nll_loss(output, target, reduction='sum').item()  # sum up batch loss\n",
        "            pred = output.argmax(dim=1, keepdim=True)  # get the index of the max log-probability\n",
        "            correct += pred.eq(target.view_as(pred)).sum().item()\n",
        "\n",
        "    test_loss /= len(test_loader.dataset)\n",
        "\n",
        "    print('\\nTest set: Average loss: {:.4f}, Accuracy: {}/{} ({:.0f}%)\\n'.format(\n",
        "        test_loss, correct, len(test_loader.dataset),\n",
        "        100. * correct / len(test_loader.dataset)))"
      ],
      "execution_count": 5,
      "outputs": []
    },
    {
      "cell_type": "code",
      "metadata": {
        "id": "MMWbLWO6FuHb",
        "colab": {
          "base_uri": "https://localhost:8080/"
        },
        "outputId": "052bba7b-5a3f-4fac-ad46-712896ff85f9"
      },
      "source": [
        "\n",
        "model = Net().to(device)\n",
        "optimizer = optim.SGD(model.parameters(), lr=0.08, momentum=0.9)\n",
        "\n",
        "for epoch in range(1, 20):\n",
        "    train(model, device, train_loader, optimizer, epoch)\n",
        "    test(model, device, test_loader)"
      ],
      "execution_count": 6,
      "outputs": [
        {
          "output_type": "stream",
          "name": "stderr",
          "text": [
            "loss=0.189042866230011 batch_id=468: 100%|██████████| 469/469 [00:24<00:00, 19.02it/s]\n"
          ]
        },
        {
          "output_type": "stream",
          "name": "stdout",
          "text": [
            "\n",
            "Test set: Average loss: 0.0523, Accuracy: 9840/10000 (98%)\n",
            "\n"
          ]
        },
        {
          "output_type": "stream",
          "name": "stderr",
          "text": [
            "loss=0.027879968285560608 batch_id=468: 100%|██████████| 469/469 [00:18<00:00, 25.19it/s]\n"
          ]
        },
        {
          "output_type": "stream",
          "name": "stdout",
          "text": [
            "\n",
            "Test set: Average loss: 0.0374, Accuracy: 9882/10000 (99%)\n",
            "\n"
          ]
        },
        {
          "output_type": "stream",
          "name": "stderr",
          "text": [
            "loss=0.05572628974914551 batch_id=468: 100%|██████████| 469/469 [00:18<00:00, 25.15it/s]\n"
          ]
        },
        {
          "output_type": "stream",
          "name": "stdout",
          "text": [
            "\n",
            "Test set: Average loss: 0.0294, Accuracy: 9912/10000 (99%)\n",
            "\n"
          ]
        },
        {
          "output_type": "stream",
          "name": "stderr",
          "text": [
            "loss=0.015600652433931828 batch_id=468: 100%|██████████| 469/469 [00:20<00:00, 23.39it/s]\n"
          ]
        },
        {
          "output_type": "stream",
          "name": "stdout",
          "text": [
            "\n",
            "Test set: Average loss: 0.0265, Accuracy: 9909/10000 (99%)\n",
            "\n"
          ]
        },
        {
          "output_type": "stream",
          "name": "stderr",
          "text": [
            "loss=0.003956194967031479 batch_id=468: 100%|██████████| 469/469 [00:19<00:00, 23.63it/s]\n"
          ]
        },
        {
          "output_type": "stream",
          "name": "stdout",
          "text": [
            "\n",
            "Test set: Average loss: 0.0294, Accuracy: 9895/10000 (99%)\n",
            "\n"
          ]
        },
        {
          "output_type": "stream",
          "name": "stderr",
          "text": [
            "loss=0.032135773450136185 batch_id=468: 100%|██████████| 469/469 [00:18<00:00, 25.33it/s]\n"
          ]
        },
        {
          "output_type": "stream",
          "name": "stdout",
          "text": [
            "\n",
            "Test set: Average loss: 0.0264, Accuracy: 9907/10000 (99%)\n",
            "\n"
          ]
        },
        {
          "output_type": "stream",
          "name": "stderr",
          "text": [
            "loss=0.07851605862379074 batch_id=468: 100%|██████████| 469/469 [00:19<00:00, 24.39it/s]\n"
          ]
        },
        {
          "output_type": "stream",
          "name": "stdout",
          "text": [
            "\n",
            "Test set: Average loss: 0.0242, Accuracy: 9915/10000 (99%)\n",
            "\n"
          ]
        },
        {
          "output_type": "stream",
          "name": "stderr",
          "text": [
            "loss=0.04025616496801376 batch_id=468: 100%|██████████| 469/469 [00:19<00:00, 24.01it/s]\n"
          ]
        },
        {
          "output_type": "stream",
          "name": "stdout",
          "text": [
            "\n",
            "Test set: Average loss: 0.0225, Accuracy: 9918/10000 (99%)\n",
            "\n"
          ]
        },
        {
          "output_type": "stream",
          "name": "stderr",
          "text": [
            "loss=0.03826776146888733 batch_id=468: 100%|██████████| 469/469 [00:18<00:00, 24.94it/s]\n"
          ]
        },
        {
          "output_type": "stream",
          "name": "stdout",
          "text": [
            "\n",
            "Test set: Average loss: 0.0217, Accuracy: 9933/10000 (99%)\n",
            "\n"
          ]
        },
        {
          "output_type": "stream",
          "name": "stderr",
          "text": [
            "loss=0.005338967312127352 batch_id=468: 100%|██████████| 469/469 [00:18<00:00, 25.31it/s]\n"
          ]
        },
        {
          "output_type": "stream",
          "name": "stdout",
          "text": [
            "\n",
            "Test set: Average loss: 0.0207, Accuracy: 9928/10000 (99%)\n",
            "\n"
          ]
        },
        {
          "output_type": "stream",
          "name": "stderr",
          "text": [
            "loss=0.01352736633270979 batch_id=468: 100%|██████████| 469/469 [00:19<00:00, 24.32it/s]\n"
          ]
        },
        {
          "output_type": "stream",
          "name": "stdout",
          "text": [
            "\n",
            "Test set: Average loss: 0.0206, Accuracy: 9929/10000 (99%)\n",
            "\n"
          ]
        },
        {
          "output_type": "stream",
          "name": "stderr",
          "text": [
            "loss=0.09622705727815628 batch_id=468: 100%|██████████| 469/469 [00:19<00:00, 24.20it/s]\n"
          ]
        },
        {
          "output_type": "stream",
          "name": "stdout",
          "text": [
            "\n",
            "Test set: Average loss: 0.0188, Accuracy: 9935/10000 (99%)\n",
            "\n"
          ]
        },
        {
          "output_type": "stream",
          "name": "stderr",
          "text": [
            "loss=0.007288002874702215 batch_id=468: 100%|██████████| 469/469 [00:18<00:00, 24.82it/s]\n"
          ]
        },
        {
          "output_type": "stream",
          "name": "stdout",
          "text": [
            "\n",
            "Test set: Average loss: 0.0218, Accuracy: 9929/10000 (99%)\n",
            "\n"
          ]
        },
        {
          "output_type": "stream",
          "name": "stderr",
          "text": [
            "loss=0.020818321034312248 batch_id=468: 100%|██████████| 469/469 [00:18<00:00, 24.73it/s]\n"
          ]
        },
        {
          "output_type": "stream",
          "name": "stdout",
          "text": [
            "\n",
            "Test set: Average loss: 0.0225, Accuracy: 9918/10000 (99%)\n",
            "\n"
          ]
        },
        {
          "output_type": "stream",
          "name": "stderr",
          "text": [
            "loss=0.061048608273267746 batch_id=468: 100%|██████████| 469/469 [00:19<00:00, 23.61it/s]\n"
          ]
        },
        {
          "output_type": "stream",
          "name": "stdout",
          "text": [
            "\n",
            "Test set: Average loss: 0.0181, Accuracy: 9935/10000 (99%)\n",
            "\n"
          ]
        },
        {
          "output_type": "stream",
          "name": "stderr",
          "text": [
            "loss=0.005381316412240267 batch_id=468: 100%|██████████| 469/469 [00:19<00:00, 23.97it/s]\n"
          ]
        },
        {
          "output_type": "stream",
          "name": "stdout",
          "text": [
            "\n",
            "Test set: Average loss: 0.0188, Accuracy: 9943/10000 (99%)\n",
            "\n"
          ]
        },
        {
          "output_type": "stream",
          "name": "stderr",
          "text": [
            "loss=0.08608485013246536 batch_id=468: 100%|██████████| 469/469 [00:18<00:00, 24.92it/s]\n"
          ]
        },
        {
          "output_type": "stream",
          "name": "stdout",
          "text": [
            "\n",
            "Test set: Average loss: 0.0221, Accuracy: 9924/10000 (99%)\n",
            "\n"
          ]
        },
        {
          "output_type": "stream",
          "name": "stderr",
          "text": [
            "loss=0.04409055411815643 batch_id=468: 100%|██████████| 469/469 [00:18<00:00, 25.14it/s]\n"
          ]
        },
        {
          "output_type": "stream",
          "name": "stdout",
          "text": [
            "\n",
            "Test set: Average loss: 0.0204, Accuracy: 9934/10000 (99%)\n",
            "\n"
          ]
        },
        {
          "output_type": "stream",
          "name": "stderr",
          "text": [
            "loss=0.030389925464987755 batch_id=468: 100%|██████████| 469/469 [00:19<00:00, 23.64it/s]\n"
          ]
        },
        {
          "output_type": "stream",
          "name": "stdout",
          "text": [
            "\n",
            "Test set: Average loss: 0.0186, Accuracy: 9937/10000 (99%)\n",
            "\n"
          ]
        }
      ]
    },
    {
      "cell_type": "code",
      "metadata": {
        "id": "So5uk4EkHW6R"
      },
      "source": [],
      "execution_count": 6,
      "outputs": []
    }
  ]
}